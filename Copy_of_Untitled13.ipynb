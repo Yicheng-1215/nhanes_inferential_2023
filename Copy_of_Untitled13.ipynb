{
  "nbformat": 4,
  "nbformat_minor": 0,
  "metadata": {
    "colab": {
      "provenance": []
    },
    "kernelspec": {
      "name": "python3",
      "display_name": "Python 3"
    },
    "language_info": {
      "name": "python"
    }
  },
  "cells": [
    {
      "cell_type": "code",
      "execution_count": null,
      "metadata": {
        "colab": {
          "base_uri": "https://localhost:8080/",
          "height": 286
        },
        "id": "PCNdhjyuX4nm",
        "outputId": "f431346c-7a51-455c-b421-29fc32f894dc"
      },
      "outputs": [
        {
          "output_type": "display_data",
          "data": {
            "text/plain": [
              "<IPython.core.display.HTML object>"
            ],
            "text/html": [
              "\n",
              "     <input type=\"file\" id=\"files-5c5c1628-a4d6-40fb-9d64-3b5557034625\" name=\"files[]\" multiple disabled\n",
              "        style=\"border:none\" />\n",
              "     <output id=\"result-5c5c1628-a4d6-40fb-9d64-3b5557034625\">\n",
              "      Upload widget is only available when the cell has been executed in the\n",
              "      current browser session. Please rerun this cell to enable.\n",
              "      </output>\n",
              "      <script>// Copyright 2017 Google LLC\n",
              "//\n",
              "// Licensed under the Apache License, Version 2.0 (the \"License\");\n",
              "// you may not use this file except in compliance with the License.\n",
              "// You may obtain a copy of the License at\n",
              "//\n",
              "//      http://www.apache.org/licenses/LICENSE-2.0\n",
              "//\n",
              "// Unless required by applicable law or agreed to in writing, software\n",
              "// distributed under the License is distributed on an \"AS IS\" BASIS,\n",
              "// WITHOUT WARRANTIES OR CONDITIONS OF ANY KIND, either express or implied.\n",
              "// See the License for the specific language governing permissions and\n",
              "// limitations under the License.\n",
              "\n",
              "/**\n",
              " * @fileoverview Helpers for google.colab Python module.\n",
              " */\n",
              "(function(scope) {\n",
              "function span(text, styleAttributes = {}) {\n",
              "  const element = document.createElement('span');\n",
              "  element.textContent = text;\n",
              "  for (const key of Object.keys(styleAttributes)) {\n",
              "    element.style[key] = styleAttributes[key];\n",
              "  }\n",
              "  return element;\n",
              "}\n",
              "\n",
              "// Max number of bytes which will be uploaded at a time.\n",
              "const MAX_PAYLOAD_SIZE = 100 * 1024;\n",
              "\n",
              "function _uploadFiles(inputId, outputId) {\n",
              "  const steps = uploadFilesStep(inputId, outputId);\n",
              "  const outputElement = document.getElementById(outputId);\n",
              "  // Cache steps on the outputElement to make it available for the next call\n",
              "  // to uploadFilesContinue from Python.\n",
              "  outputElement.steps = steps;\n",
              "\n",
              "  return _uploadFilesContinue(outputId);\n",
              "}\n",
              "\n",
              "// This is roughly an async generator (not supported in the browser yet),\n",
              "// where there are multiple asynchronous steps and the Python side is going\n",
              "// to poll for completion of each step.\n",
              "// This uses a Promise to block the python side on completion of each step,\n",
              "// then passes the result of the previous step as the input to the next step.\n",
              "function _uploadFilesContinue(outputId) {\n",
              "  const outputElement = document.getElementById(outputId);\n",
              "  const steps = outputElement.steps;\n",
              "\n",
              "  const next = steps.next(outputElement.lastPromiseValue);\n",
              "  return Promise.resolve(next.value.promise).then((value) => {\n",
              "    // Cache the last promise value to make it available to the next\n",
              "    // step of the generator.\n",
              "    outputElement.lastPromiseValue = value;\n",
              "    return next.value.response;\n",
              "  });\n",
              "}\n",
              "\n",
              "/**\n",
              " * Generator function which is called between each async step of the upload\n",
              " * process.\n",
              " * @param {string} inputId Element ID of the input file picker element.\n",
              " * @param {string} outputId Element ID of the output display.\n",
              " * @return {!Iterable<!Object>} Iterable of next steps.\n",
              " */\n",
              "function* uploadFilesStep(inputId, outputId) {\n",
              "  const inputElement = document.getElementById(inputId);\n",
              "  inputElement.disabled = false;\n",
              "\n",
              "  const outputElement = document.getElementById(outputId);\n",
              "  outputElement.innerHTML = '';\n",
              "\n",
              "  const pickedPromise = new Promise((resolve) => {\n",
              "    inputElement.addEventListener('change', (e) => {\n",
              "      resolve(e.target.files);\n",
              "    });\n",
              "  });\n",
              "\n",
              "  const cancel = document.createElement('button');\n",
              "  inputElement.parentElement.appendChild(cancel);\n",
              "  cancel.textContent = 'Cancel upload';\n",
              "  const cancelPromise = new Promise((resolve) => {\n",
              "    cancel.onclick = () => {\n",
              "      resolve(null);\n",
              "    };\n",
              "  });\n",
              "\n",
              "  // Wait for the user to pick the files.\n",
              "  const files = yield {\n",
              "    promise: Promise.race([pickedPromise, cancelPromise]),\n",
              "    response: {\n",
              "      action: 'starting',\n",
              "    }\n",
              "  };\n",
              "\n",
              "  cancel.remove();\n",
              "\n",
              "  // Disable the input element since further picks are not allowed.\n",
              "  inputElement.disabled = true;\n",
              "\n",
              "  if (!files) {\n",
              "    return {\n",
              "      response: {\n",
              "        action: 'complete',\n",
              "      }\n",
              "    };\n",
              "  }\n",
              "\n",
              "  for (const file of files) {\n",
              "    const li = document.createElement('li');\n",
              "    li.append(span(file.name, {fontWeight: 'bold'}));\n",
              "    li.append(span(\n",
              "        `(${file.type || 'n/a'}) - ${file.size} bytes, ` +\n",
              "        `last modified: ${\n",
              "            file.lastModifiedDate ? file.lastModifiedDate.toLocaleDateString() :\n",
              "                                    'n/a'} - `));\n",
              "    const percent = span('0% done');\n",
              "    li.appendChild(percent);\n",
              "\n",
              "    outputElement.appendChild(li);\n",
              "\n",
              "    const fileDataPromise = new Promise((resolve) => {\n",
              "      const reader = new FileReader();\n",
              "      reader.onload = (e) => {\n",
              "        resolve(e.target.result);\n",
              "      };\n",
              "      reader.readAsArrayBuffer(file);\n",
              "    });\n",
              "    // Wait for the data to be ready.\n",
              "    let fileData = yield {\n",
              "      promise: fileDataPromise,\n",
              "      response: {\n",
              "        action: 'continue',\n",
              "      }\n",
              "    };\n",
              "\n",
              "    // Use a chunked sending to avoid message size limits. See b/62115660.\n",
              "    let position = 0;\n",
              "    do {\n",
              "      const length = Math.min(fileData.byteLength - position, MAX_PAYLOAD_SIZE);\n",
              "      const chunk = new Uint8Array(fileData, position, length);\n",
              "      position += length;\n",
              "\n",
              "      const base64 = btoa(String.fromCharCode.apply(null, chunk));\n",
              "      yield {\n",
              "        response: {\n",
              "          action: 'append',\n",
              "          file: file.name,\n",
              "          data: base64,\n",
              "        },\n",
              "      };\n",
              "\n",
              "      let percentDone = fileData.byteLength === 0 ?\n",
              "          100 :\n",
              "          Math.round((position / fileData.byteLength) * 100);\n",
              "      percent.textContent = `${percentDone}% done`;\n",
              "\n",
              "    } while (position < fileData.byteLength);\n",
              "  }\n",
              "\n",
              "  // All done.\n",
              "  yield {\n",
              "    response: {\n",
              "      action: 'complete',\n",
              "    }\n",
              "  };\n",
              "}\n",
              "\n",
              "scope.google = scope.google || {};\n",
              "scope.google.colab = scope.google.colab || {};\n",
              "scope.google.colab._files = {\n",
              "  _uploadFiles,\n",
              "  _uploadFilesContinue,\n",
              "};\n",
              "})(self);\n",
              "</script> "
            ]
          },
          "metadata": {}
        },
        {
          "output_type": "stream",
          "name": "stdout",
          "text": [
            "Saving DEMO_L.XPT to DEMO_L.XPT\n",
            "Saving HEPB_S_L.XPT to HEPB_S_L.XPT\n",
            "Saving KIQ_U_L.XPT to KIQ_U_L.XPT\n",
            "Saving PAQ_L.XPT to PAQ_L.XPT\n",
            "Saving VID_L.XPT to VID_L.XPT\n",
            "Saving BAX_L.XPT to BAX_L.XPT\n",
            "Saving BPXO_L.XPT to BPXO_L.XPT\n"
          ]
        }
      ],
      "source": [
        "from google.colab import files\n",
        "uploaded = files.upload()\n"
      ]
    },
    {
      "cell_type": "code",
      "source": [
        "\n",
        "import pandas as pd\n",
        "\n",
        "# Load the data\n",
        "demo_data = pd.read_sas('DEMO_L.XPT', format='xport')\n",
        "\n",
        "hepb_data = pd.read_sas('HEPB_S_L.XPT', format='xport')\n",
        "\n",
        "kidney_data = pd.read_sas('KIQ_U_L.XPT', format='xport')\n",
        "\n",
        "paq_data = pd.read_sas('PAQ_L.XPT', format='xport')\n",
        "\n",
        "vid_data = pd.read_sas('VID_L.XPT', format='xport')\n",
        "\n",
        "bax_data = pd.read_sas('BAX_L.XPT', format='xport')\n",
        "\n",
        "bp_data = pd.read_sas('BPXO_L.XPT', format='xport')\n",
        "\n"
      ],
      "metadata": {
        "id": "9JMFx2hEOnOY"
      },
      "execution_count": null,
      "outputs": []
    },
    {
      "cell_type": "code",
      "source": [],
      "metadata": {
        "id": "kXDaipfyd9Gs"
      },
      "execution_count": null,
      "outputs": []
    },
    {
      "cell_type": "code",
      "source": [
        "# Preview first few rows of each dataset\n",
        "print(demo_data.head())\n",
        "print(hepb_data.head())\n",
        "print(kidney_data.head())\n",
        "print(paq_data.head())\n",
        "print(vid_data.head())\n",
        "print(bax_data.head())\n",
        "print(bp_data.head())\n"
      ],
      "metadata": {
        "colab": {
          "base_uri": "https://localhost:8080/"
        },
        "collapsed": true,
        "id": "sIJmkq3UWfCC",
        "outputId": "9eda6249-d778-4b05-b8f1-ecd0674328c9"
      },
      "execution_count": null,
      "outputs": [
        {
          "output_type": "stream",
          "name": "stdout",
          "text": [
            "       SEQN  SDDSRVYR  RIDSTATR  RIAGENDR  RIDAGEYR  RIDAGEMN  RIDRETH1  \\\n",
            "0  130378.0      12.0       2.0       1.0      43.0       NaN       5.0   \n",
            "1  130379.0      12.0       2.0       1.0      66.0       NaN       3.0   \n",
            "2  130380.0      12.0       2.0       2.0      44.0       NaN       2.0   \n",
            "3  130381.0      12.0       2.0       2.0       5.0       NaN       5.0   \n",
            "4  130382.0      12.0       2.0       1.0       2.0       NaN       3.0   \n",
            "\n",
            "   RIDRETH3  RIDEXMON  RIDEXAGM  ...  DMDHRGND  DMDHRAGZ  DMDHREDZ  DMDHRMAZ  \\\n",
            "0       6.0       2.0       NaN  ...       NaN       NaN       NaN       NaN   \n",
            "1       3.0       2.0       NaN  ...       NaN       NaN       NaN       NaN   \n",
            "2       2.0       1.0       NaN  ...       NaN       NaN       NaN       NaN   \n",
            "3       7.0       1.0      71.0  ...       2.0       2.0       2.0       3.0   \n",
            "4       3.0       2.0      34.0  ...       2.0       2.0       3.0       1.0   \n",
            "\n",
            "   DMDHSEDZ      WTINT2YR      WTMEC2YR  SDMVSTRA  SDMVPSU  INDFMPIR  \n",
            "0       NaN  50055.450807  54374.463898     173.0      2.0      5.00  \n",
            "1       NaN  29087.450605  34084.721548     173.0      2.0      5.00  \n",
            "2       NaN  80062.674301  81196.277992     174.0      1.0      1.41  \n",
            "3       NaN  38807.268902  55698.607106     182.0      2.0      1.53  \n",
            "4       2.0  30607.519774  36434.146346     182.0      2.0      3.60  \n",
            "\n",
            "[5 rows x 27 columns]\n",
            "       SEQN       WTPH2YR  LBXHBS\n",
            "0  130378.0  5.604213e+04     2.0\n",
            "1  130379.0  3.743571e+04     2.0\n",
            "2  130380.0  8.532884e+04     2.0\n",
            "3  130381.0  5.397605e-79     NaN\n",
            "4  130382.0  5.963893e+04     2.0\n",
            "       SEQN  KIQ022  KIQ025  KIQ005  KIQ010  KIQ042  KIQ044  KIQ052  KIQ481\n",
            "0  130378.0     2.0     NaN     NaN     NaN     NaN     NaN     NaN     NaN\n",
            "1  130379.0     2.0     NaN     2.0     2.0     1.0     2.0     2.0     2.0\n",
            "2  130380.0     2.0     NaN     1.0     NaN     2.0     2.0     NaN     2.0\n",
            "3  130384.0     2.0     NaN     NaN     NaN     NaN     NaN     NaN     NaN\n",
            "4  130385.0     2.0     NaN     NaN     NaN     NaN     NaN     NaN     NaN\n",
            "       SEQN       PAD790Q PAD790U  PAD800       PAD810Q PAD810U  PAD820  \\\n",
            "0  130378.0  3.000000e+00    b'W'    45.0  3.000000e+00    b'W'    45.0   \n",
            "1  130379.0  4.000000e+00    b'W'    45.0  3.000000e+00    b'W'    45.0   \n",
            "2  130380.0  1.000000e+00    b'W'    20.0  5.397605e-79     b''     NaN   \n",
            "3  130384.0  5.397605e-79     b''     NaN  5.397605e-79     b''     NaN   \n",
            "4  130385.0  1.000000e+00    b'D'    90.0  1.000000e+00    b'W'    60.0   \n",
            "\n",
            "   PAD680  \n",
            "0   360.0  \n",
            "1   480.0  \n",
            "2   240.0  \n",
            "3    60.0  \n",
            "4   180.0  \n",
            "       SEQN       WTPH2YR  LBXVIDMS      LBDVIDLC  LBXVD2MS  LBDVD2LC  \\\n",
            "0  130378.0  5.604213e+04      58.9  5.397605e-79      1.57       1.0   \n",
            "1  130379.0  3.743571e+04      60.5  5.397605e-79      1.57       1.0   \n",
            "2  130380.0  8.532884e+04      39.4  5.397605e-79      1.57       1.0   \n",
            "3  130381.0  5.397605e-79       NaN           NaN       NaN       NaN   \n",
            "4  130382.0  5.963893e+04       NaN           NaN       NaN       NaN   \n",
            "\n",
            "   LBXVD3MS      LBDVD3LC  LBXVE3MS      LBDVE3LC  \n",
            "0      57.3  5.397605e-79      2.47  5.397605e-79  \n",
            "1      58.9  5.397605e-79      3.40  5.397605e-79  \n",
            "2      37.8  5.397605e-79      1.52  5.397605e-79  \n",
            "3       NaN           NaN       NaN           NaN  \n",
            "4       NaN           NaN       NaN           NaN  \n",
            "       SEQN  BAXMSTAT  BAXRXNC  BAXRXND  BAX5STAT  BAQ110  BAQ121  BAQ125  \\\n",
            "0  130378.0       1.0      NaN      NaN       1.0     1.0     2.0     2.0   \n",
            "1  130379.0       1.0      NaN      NaN       1.0     1.0     2.0     2.0   \n",
            "2  130380.0       1.0      NaN      NaN       2.0     1.0     2.0     2.0   \n",
            "3  130386.0       1.0      NaN      NaN       1.0     1.0     2.0     2.0   \n",
            "4  130387.0       1.0      NaN      NaN       2.0     1.0     2.0     2.0   \n",
            "\n",
            "   BAQ132  BAQ140  ...  BAARFC41  BAXPF42  BAXTC42  BAARFC42  BAXPF51  \\\n",
            "0     2.0     2.0  ...       3.0      2.0     17.0       5.0      NaN   \n",
            "1     2.0     2.0  ...       1.0      1.0     30.0       NaN      2.0   \n",
            "2     2.0     1.0  ...       3.0      2.0      1.0       3.0      NaN   \n",
            "3     2.0     2.0  ...       NaN      NaN      NaN       NaN      1.0   \n",
            "4     2.0     2.0  ...       3.0      1.0     30.0       NaN      NaN   \n",
            "\n",
            "   BAXTC51  BAARFC51  BAXPF52  BAXTC52  BAARFC52  \n",
            "0      NaN       NaN      NaN      NaN       NaN  \n",
            "1      6.0       1.0      1.0     20.0       5.0  \n",
            "2      NaN       NaN      NaN      NaN       NaN  \n",
            "3     30.0       NaN      NaN      NaN       NaN  \n",
            "4      NaN       NaN      NaN      NaN       NaN  \n",
            "\n",
            "[5 rows x 45 columns]\n",
            "       SEQN BPAOARM  BPAOCSZ  BPXOSY1  BPXODI1  BPXOSY2  BPXODI2  BPXOSY3  \\\n",
            "0  130378.0    b'R'      4.0    135.0     98.0    131.0     96.0    132.0   \n",
            "1  130379.0    b'R'      4.0    121.0     84.0    117.0     76.0    113.0   \n",
            "2  130380.0    b'R'      4.0    111.0     79.0    112.0     80.0    104.0   \n",
            "3  130386.0    b'R'      4.0    110.0     72.0    120.0     74.0    115.0   \n",
            "4  130387.0    b'R'      4.0    143.0     76.0    136.0     74.0    145.0   \n",
            "\n",
            "   BPXODI3  BPXOPLS1  BPXOPLS2  BPXOPLS3  \n",
            "0     94.0      82.0      79.0      82.0  \n",
            "1     76.0      72.0      71.0      73.0  \n",
            "2     76.0      84.0      83.0      77.0  \n",
            "3     75.0      59.0      64.0      64.0  \n",
            "4     78.0      80.0      80.0      77.0  \n"
          ]
        }
      ]
    },
    {
      "cell_type": "code",
      "source": [
        "# Merge datasets based on SEQN\n",
        "merged_data = demo_data.merge(hepb_data, on='SEQN', how='inner') \\\n",
        "                       .merge(kidney_data, on='SEQN', how='inner') \\\n",
        "                       .merge(paq_data, on='SEQN', how='inner') \\\n",
        "                       .merge(vid_data, on='SEQN', how='inner') \\\n",
        "                       .merge(bax_data, on='SEQN', how='inner') \\\n",
        "                       .merge(bp_data, on='SEQN', how='inner')\n"
      ],
      "metadata": {
        "id": "H1hSPW2pd_sO"
      },
      "execution_count": null,
      "outputs": []
    },
    {
      "cell_type": "code",
      "source": [
        "# Remove placeholder values for PAD680 and WHD020\n",
        "merged_data = merged_data[(merged_data['PAD680'] != 7777) & (merged_data['PAD680'] != 9999)]\n",
        "\n",
        "# Drop rows with null values in continuous variables\n",
        "merged_data = merged_data.dropna(subset=['PAD680'])\n"
      ],
      "metadata": {
        "id": "7Hwi1a0XeCvk"
      },
      "execution_count": null,
      "outputs": []
    },
    {
      "cell_type": "code",
      "source": [
        "#Question 1: \"Is there an association between marital status (married or not married) and education level (bachelor’s degree or higher vs. less than a bachelor’s degree)?\"\n",
        "import pandas as pd\n",
        "from scipy.stats import chi2_contingency\n",
        "\n",
        "# Create a contingency table\n",
        "contingency_table = pd.crosstab(merged_data['DMDMARTZ_recode'], merged_data['DMDEDUC2_recode'])\n",
        "\n",
        "# chi-square test\n",
        "chi2, p, dof, expected = chi2_contingency(contingency_table)\n",
        "\n",
        "# Output results\n",
        "print(\"Chi-Square Statistic:\", chi2)\n",
        "print(\"p-value:\", p)\n",
        "\n",
        "# Interpretation\n",
        "if p < 0.05:\n",
        "    print(\"There is a statistically significant association between marital status and education level.\")\n",
        "else:\n",
        "    print(\"There is no statistically significant association between marital status and education level.\")\n"
      ],
      "metadata": {
        "colab": {
          "base_uri": "https://localhost:8080/"
        },
        "id": "0vDA61Y4LtGM",
        "outputId": "0f2f59c2-ecea-4f71-f068-93a377089a92"
      },
      "execution_count": null,
      "outputs": [
        {
          "output_type": "stream",
          "name": "stdout",
          "text": [
            "Chi-Square Statistic: 70.77972596712145\n",
            "p-value: 3.9942066155967015e-17\n",
            "There is a statistically significant association between marital status and education level.\n"
          ]
        }
      ]
    },
    {
      "cell_type": "markdown",
      "source": [],
      "metadata": {
        "id": "aKR1oD5Ijcin"
      }
    },
    {
      "cell_type": "code",
      "source": [
        "from scipy.stats import ttest_ind\n",
        "\n",
        "# Separate data into two groups: married and not married\n",
        "married_group = merged_data[merged_data['DMDMARTZ_recode'] == 1]['PAD680']\n",
        "not_married_group = merged_data[merged_data['DMDMARTZ_recode'] == 0]['PAD680']\n",
        "\n",
        "# t-test\n",
        "t_stat, p_value = ttest_ind(married_group, not_married_group)\n",
        "\n",
        "print(\"t-statistic:\", t_stat)\n",
        "print(\"p-value:\", p_value)\n",
        "\n",
        "# Interpretation\n",
        "if p_value < 0.05:\n",
        "    print(\"There is a statistically significant difference in mean sedentary behavior time between married and not married individuals.\")\n",
        "else:\n",
        "    print(\"There is no statistically significant difference in mean sedentary behavior time between married and not married individuals.\")\n"
      ],
      "metadata": {
        "colab": {
          "base_uri": "https://localhost:8080/"
        },
        "id": "uRVpPX-hjdLr",
        "outputId": "3bcadfaf-ef04-4db1-9cf0-49559d2b9d06"
      },
      "execution_count": null,
      "outputs": [
        {
          "output_type": "stream",
          "name": "stdout",
          "text": [
            "t-statistic: -1.8261644570177828\n",
            "p-value: 0.06788838069584785\n",
            "There is no statistically significant difference in mean sedentary behavior time between married and not married individuals.\n"
          ]
        }
      ]
    },
    {
      "cell_type": "code",
      "source": [
        "import pandas as pd\n",
        "from scipy.stats import chi2_contingency\n",
        "\n",
        "# Recode Marital Status and Education Level\n",
        "merged_data['DMDMARTZ_recode'] = merged_data['DMDMARTZ'].apply(lambda x: 1 if x == 1 else 0)\n",
        "merged_data['DMDEDUC2_recode'] = merged_data['DMDEDUC2'].apply(lambda x: 1 if x >= 5 else 0)\n",
        "\n",
        "# Create a contingency table\n",
        "contingency_table = pd.crosstab(merged_data['DMDMARTZ_recode'], merged_data['DMDEDUC2_recode'])\n",
        "\n",
        "# chi-square test\n",
        "chi2, p, dof, expected = chi2_contingency(contingency_table)\n",
        "\n",
        "# Display results\n",
        "print(\"Chi-Square Statistic:\", chi2)\n",
        "print(\"p-value:\", p)\n",
        "\n",
        "# Interpretation\n",
        "if p < 0.05:\n",
        "    print(\"There is a statistically significant association between marital status and education level.\")\n",
        "else:\n",
        "    print(\"There is no statistically significant association between marital status and education level.\")\n"
      ],
      "metadata": {
        "colab": {
          "base_uri": "https://localhost:8080/"
        },
        "id": "gOir78nqjhaM",
        "outputId": "d70837b3-7c22-4e54-edef-25ca6156f27f"
      },
      "execution_count": null,
      "outputs": [
        {
          "output_type": "stream",
          "name": "stdout",
          "text": [
            "Chi-Square Statistic: 70.77972596712145\n",
            "p-value: 3.9942066155967015e-17\n",
            "There is a statistically significant association between marital status and education level.\n"
          ]
        }
      ]
    }
  ]
}